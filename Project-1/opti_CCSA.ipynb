{
  "nbformat": 4,
  "nbformat_minor": 0,
  "metadata": {
    "colab": {
      "name": "opti_CCSA.ipynb",
      "provenance": [],
      "collapsed_sections": []
    },
    "kernelspec": {
      "name": "python3",
      "display_name": "Python 3"
    },
    "language_info": {
      "name": "python"
    }
  },
  "cells": [
    {
      "cell_type": "code",
      "metadata": {
        "id": "U8K1pjCxOJPK"
      },
      "source": [
        "import random\n",
        "import numpy as np\n",
        "import matplotlib.pyplot as plt\n"
      ],
      "execution_count": 31,
      "outputs": []
    },
    {
      "cell_type": "code",
      "metadata": {
        "id": "LaeMZplrOiPu"
      },
      "source": [
        "def objectiveFunction(x):\n",
        "    return ((30*x)-x**2)"
      ],
      "execution_count": 32,
      "outputs": []
    },
    {
      "cell_type": "code",
      "metadata": {
        "id": "WyWaUm20OsHV"
      },
      "source": [
        "# CCSA - Using Sine Chaotic Map \n",
        "\n",
        "\n",
        "# 1. Set the initial values of M , fl and ap and tMax\n",
        "M = 3\n",
        "ap = [0.1 for i in range(M)]\n",
        "fl = [2 for i in range(M)]\n",
        "tMax = 4\n",
        "\n",
        "# 2. Initialize the crow position (y) randomly , position of hiding place in memory (N)  randomly alongwith R for each crow\n",
        "yt = [5,25,11] #search space [0-40]\n",
        "Ct = [0.2,0.2,0.5] \n",
        "Nt = [10,18,14]\n",
        "ytplus1 = []\n",
        "Ntplus1=[]\n",
        "Ctplus1=[]\n",
        "Fn=[]\n",
        "\n"
      ],
      "execution_count": 33,
      "outputs": []
    },
    {
      "cell_type": "code",
      "metadata": {
        "colab": {
          "base_uri": "https://localhost:8080/"
        },
        "id": "69d-nbb8Pekz",
        "outputId": "f2ef068a-6016-4b5b-ea0f-4f14f894ba2a"
      },
      "source": [
        "N=[]\n",
        "# 3. Evaluate the fitness function of each crow Fn(y). \n",
        "for i in range(M):\n",
        "    Fn.append(objectiveFunction(yt[i]))\n",
        "\n",
        "# 4. Set t = 1 and run till tMax .\n",
        "t = 1\n",
        "while t<=tMax:\n",
        "    for j in range(M):\n",
        "        # Randomly choose one of crows to follow  \n",
        "        z = random.randint(0, M-1)\n",
        "        if (Ct[z] > ap[z]):\n",
        "            ytplus1.append(yt[j] + Ct[j] * fl[j] * (Nt[z] - yt[j]))\n",
        "        else:\n",
        "            ytplus1.append(random.randint(0, 40))\n",
        "    # Check Feasibility\n",
        "    for i in range(M):\n",
        "        if(ytplus1[i]>=0 and ytplus1[i]<=40):   \n",
        "            pass\n",
        "        else:\n",
        "            ytplus1[i]=yt[i]\n",
        "    # Updating Each Crow's Memory\n",
        "    for i in range(M):\n",
        "        if(objectiveFunction(ytplus1[i])<objectiveFunction(Nt[i])):\n",
        "            Ntplus1.append(Nt[i])\n",
        "        else:\n",
        "            Ntplus1.append(ytplus1[i])\n",
        "    # Evaluate new position of crow n\n",
        "    for i in range(M):\n",
        "        Ctplus1.append(np.sin(np.pi*Ct[i]))\n",
        "\n",
        "    Ct = Ctplus1\n",
        "    yt = ytplus1\n",
        "    Nt = Ntplus1\n",
        "    Ctplus1 = []\n",
        "    ytplus1 = []\n",
        "    Ntplus1 = []\n",
        "    print(\"N after iteration no.\",t,\" \",Nt)\n",
        "    N.append(Nt)\n",
        "    t=t+1\n",
        "print(\"Final optimal N for each crow :\")\n",
        "print(Nt)\n",
        "plt.show()"
      ],
      "execution_count": 34,
      "outputs": [
        {
          "output_type": "stream",
          "text": [
            "N after iteration no. 1   [10.2, 18, 14]\n",
            "N after iteration no. 2   [14.667167917422795, 18, 14]\n",
            "N after iteration no. 3   [14.667167917422795, 18, 14]\n",
            "N after iteration no. 4   [14.667167917422795, 18, 14]\n",
            "Final optimal N for each crow :\n",
            "[14.667167917422795, 18, 14]\n"
          ],
          "name": "stdout"
        }
      ]
    },
    {
      "cell_type": "code",
      "metadata": {
        "colab": {
          "base_uri": "https://localhost:8080/"
        },
        "id": "7cHzQ9fba_To",
        "outputId": "0eeab5f4-f3de-454a-e00a-2817d015025b"
      },
      "source": [
        "N"
      ],
      "execution_count": 35,
      "outputs": [
        {
          "output_type": "execute_result",
          "data": {
            "text/plain": [
              "[[10.2, 18, 14],\n",
              " [14.667167917422795, 18, 14],\n",
              " [14.667167917422795, 18, 14],\n",
              " [14.667167917422795, 18, 14]]"
            ]
          },
          "metadata": {
            "tags": []
          },
          "execution_count": 35
        }
      ]
    },
    {
      "cell_type": "code",
      "metadata": {
        "id": "Smxa5fb_cz9Q"
      },
      "source": [
        "c1=[]\n",
        "c2=[]\n",
        "c3=[]\n",
        "for i in range(len(N)):\n",
        "  c1.append(N[i][0])\n",
        "  c2.append(N[i][1])\n",
        "  c3.append(N[i][2])\n"
      ],
      "execution_count": 36,
      "outputs": []
    },
    {
      "cell_type": "code",
      "metadata": {
        "colab": {
          "base_uri": "https://localhost:8080/",
          "height": 283
        },
        "id": "cuikdNjwbPys",
        "outputId": "eca38c51-5b96-4623-a2ac-708d6bd45c21"
      },
      "source": [
        "x=[i for i in range(M+1)]\n",
        "for i in range(M):\n",
        "  if(i==0):\n",
        "    y=c1\n",
        "  if(i==1):\n",
        "    y=c2\n",
        "  if(i==2):\n",
        "    y=c3\n",
        "  plt.subplot(3, 1, i+1)\n",
        "  plt.scatter(x,y , label=i,alpha=0.3,)\n",
        "plt.show()\n",
        "plt.gcf().set_size_inches(18,15)"
      ],
      "execution_count": 37,
      "outputs": [
        {
          "output_type": "display_data",
          "data": {
            "image/png": "[encoded data removed]",
            "text/plain": [
              "<Figure size 432x288 with 3 Axes>"
            ]
          },
          "metadata": {
            "tags": [],
            "needs_background": "light"
          }
        },
        {
          "output_type": "display_data",
          "data": {
            "text/plain": [
              "<Figure size 1296x1080 with 0 Axes>"
            ]
          },
          "metadata": {
            "tags": []
          }
        }
      ]
    },
    {
      "cell_type": "code",
      "metadata": {
        "id": "DmN18j293rIp"
      },
      "source": [
        ""
      ],
      "execution_count": 37,
      "outputs": []
    }
  ]
}